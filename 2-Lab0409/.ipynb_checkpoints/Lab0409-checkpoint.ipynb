{
 "cells": [
  {
   "cell_type": "code",
   "execution_count": 1,
   "metadata": {},
   "outputs": [],
   "source": [
    "import numpy as np\n",
    "import matplotlib.pyplot as plt\n",
    "import pandas as pd"
   ]
  },
  {
   "cell_type": "code",
   "execution_count": 2,
   "metadata": {},
   "outputs": [],
   "source": [
    "from faker import Faker\n",
    "fake = Faker('no_NO')"
   ]
  },
  {
   "cell_type": "code",
   "execution_count": 3,
   "metadata": {},
   "outputs": [
    {
     "data": {
      "text/plain": [
       "'Gerd Martinsen'"
      ]
     },
     "execution_count": 3,
     "metadata": {},
     "output_type": "execute_result"
    }
   ],
   "source": [
    "fake.name()"
   ]
  },
  {
   "cell_type": "code",
   "execution_count": 4,
   "metadata": {},
   "outputs": [
    {
     "data": {
      "text/plain": [
       "'Liemyra 4, 7608 Knudsen'"
      ]
     },
     "execution_count": 4,
     "metadata": {},
     "output_type": "execute_result"
    }
   ],
   "source": [
    "fake.address()"
   ]
  },
  {
   "cell_type": "code",
   "execution_count": 5,
   "metadata": {},
   "outputs": [
    {
     "name": "stdout",
     "output_type": "stream",
     "text": [
      "Ann Jørgensen\n",
      "Sigrid Henriksen\n",
      "Maren-Aud Hanssen\n",
      "Erling Thomassen\n",
      "Kirsten Hauge\n",
      "Sondre Engen\n",
      "Laila Ødegård\n",
      "Tommy Gundersen\n",
      "Tone Myklebust\n",
      "Sigrid Thorsen\n"
     ]
    }
   ],
   "source": [
    "for _ in range(10):\n",
    "    print(fake.name())"
   ]
  },
  {
   "cell_type": "code",
   "execution_count": 6,
   "metadata": {},
   "outputs": [
    {
     "name": "stdout",
     "output_type": "stream",
     "text": [
      "Knudsenholtet 5, 1977 Haraldeid\n",
      "Karlsenkollen 3, 7014 Marifjord\n",
      "Kristoffersengropa 66, 3651 Sivertsen\n",
      "Bøeskrenten 9, 0851 Ingeborgborg\n",
      "Haugetjernet 11E, 4992 Iversen\n",
      "Hellandskrenten 67C, 2463 Madsen\n",
      "Solbergmoen 586, 5476 Elivik\n",
      "Jensenstien 7, 8787 Jensen\n",
      "Knudsentjernet 91B, 0131 Sarasand\n",
      "Kristoffersenmyra 20, 2604 Eriksjøen\n"
     ]
    }
   ],
   "source": [
    "for _ in range(10):\n",
    "    print(fake.address())"
   ]
  },
  {
   "cell_type": "code",
   "execution_count": 7,
   "metadata": {},
   "outputs": [],
   "source": [
    "adr = []\n",
    "for _ in range(10):\n",
    "    adr.append(fake.address())"
   ]
  },
  {
   "cell_type": "code",
   "execution_count": 8,
   "metadata": {},
   "outputs": [
    {
     "data": {
      "text/plain": [
       "['Bakkestranda 3, 5839 Mariannefjord',\n",
       " 'Kristiansenringen 571, 3775 Lien',\n",
       " 'Solheimhøgda 54C, 3619 Ninasjøen',\n",
       " 'Andersenspranget 8, 0341 Magnestad',\n",
       " 'Nygårdholtet 1, 5435 Gretheborg',\n",
       " 'Madsenhøgda 6, 3539 Randiby',\n",
       " 'Myklebustjordet 6, 0024 Aune',\n",
       " 'Haugenstranda 7, 8810 Nilsen',\n",
       " 'Lundetjernet 02, 7522 Karolinehamn',\n",
       " 'Karlsentoppen 422, 9859 Danielsen']"
      ]
     },
     "execution_count": 8,
     "metadata": {},
     "output_type": "execute_result"
    }
   ],
   "source": [
    "adr"
   ]
  },
  {
   "cell_type": "code",
   "execution_count": 9,
   "metadata": {},
   "outputs": [],
   "source": [
    "from laundromat.spacy.spacy_model import SpacyModel"
   ]
  },
  {
   "cell_type": "code",
   "execution_count": 13,
   "metadata": {},
   "outputs": [],
   "source": [
    "tekst = (\"Hei, mitt navn er Ola Nordmann. Jeg er 20 år og jobber 50 prosent\"\n",
    "\"stilling i Arbeidsgiver AS i Norge. Du kan nå meg på 99999999.\")"
   ]
  },
  {
   "cell_type": "code",
   "execution_count": 14,
   "metadata": {},
   "outputs": [],
   "source": [
    "nlp = SpacyModel()"
   ]
  },
  {
   "cell_type": "code",
   "execution_count": 15,
   "metadata": {},
   "outputs": [
    {
     "data": {
      "text/plain": [
       "[['Ola Nordmann', 'PER', 5, 7],\n",
       " ['Arbeidsgiver AS', 'ORG', 17, 19],\n",
       " ['Norge', 'LOC', 20, 21]]"
      ]
     },
     "execution_count": 15,
     "metadata": {},
     "output_type": "execute_result"
    }
   ],
   "source": [
    "nlp.predict(tekst)"
   ]
  },
  {
   "cell_type": "code",
   "execution_count": 16,
   "metadata": {},
   "outputs": [
    {
     "data": {
      "text/plain": [
       "{'PER': 1, 'ORG': 1, 'LOC': 1}"
      ]
     },
     "execution_count": 16,
     "metadata": {},
     "output_type": "execute_result"
    }
   ],
   "source": [
    "nlp.count(tekst)"
   ]
  },
  {
   "cell_type": "code",
   "execution_count": 18,
   "metadata": {},
   "outputs": [
    {
     "data": {
      "text/plain": [
       "'Hei, mitt navn er *-**-**-**-**-**-**-**-**-**-**-**-*. Jeg er 20 år og jobber 50 prosentstilling i *-**-**-**-**-**-**-**-**-**-**-**-**-**-**-* i *-**-**-**-**-*. Du kan nå meg på 99999999.'"
      ]
     },
     "execution_count": 18,
     "metadata": {},
     "output_type": "execute_result"
    }
   ],
   "source": [
    "sladdet = nlp.replace(tekst, replacement=\"pad\", replacement_char=\"*-*\")\n",
    "sladdet"
   ]
  },
  {
   "cell_type": "code",
   "execution_count": null,
   "metadata": {},
   "outputs": [],
   "source": []
  }
 ],
 "metadata": {
  "kernelspec": {
   "display_name": "Python 3",
   "language": "python",
   "name": "python3"
  },
  "language_info": {
   "codemirror_mode": {
    "name": "ipython",
    "version": 3
   },
   "file_extension": ".py",
   "mimetype": "text/x-python",
   "name": "python",
   "nbconvert_exporter": "python",
   "pygments_lexer": "ipython3",
   "version": "3.8.5"
  }
 },
 "nbformat": 4,
 "nbformat_minor": 4
}
