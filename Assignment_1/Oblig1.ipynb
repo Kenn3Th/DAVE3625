{
 "cells": [
  {
   "cell_type": "markdown",
   "metadata": {},
   "source": [
    "# Assignment 1"
   ]
  },
  {
   "cell_type": "code",
   "execution_count": 1,
   "metadata": {},
   "outputs": [],
   "source": [
    "import numpy as np\n",
    "import matplotlib.pyplot as plt\n",
    "import seaborn as sns\n",
    "import pandas as pd"
   ]
  },
  {
   "cell_type": "code",
   "execution_count": 2,
   "metadata": {},
   "outputs": [],
   "source": [
    "url = 'https://raw.githubusercontent.com/umaimehm/Intro_to_AI/master/assignment1/Ruter_data.csv'\n",
    "Ruter_df = pd.read_csv(url, delimiter = ';')"
   ]
  },
  {
   "cell_type": "code",
   "execution_count": 3,
   "metadata": {},
   "outputs": [
    {
     "data": {
      "text/html": [
       "<div>\n",
       "<style scoped>\n",
       "    .dataframe tbody tr th:only-of-type {\n",
       "        vertical-align: middle;\n",
       "    }\n",
       "\n",
       "    .dataframe tbody tr th {\n",
       "        vertical-align: top;\n",
       "    }\n",
       "\n",
       "    .dataframe thead th {\n",
       "        text-align: right;\n",
       "    }\n",
       "</style>\n",
       "<table border=\"1\" class=\"dataframe\">\n",
       "  <thead>\n",
       "    <tr style=\"text-align: right;\">\n",
       "      <th></th>\n",
       "      <th>TurId</th>\n",
       "      <th>Dato</th>\n",
       "      <th>Fylke</th>\n",
       "      <th>Område</th>\n",
       "      <th>Kommune</th>\n",
       "      <th>Holdeplass_Fra</th>\n",
       "      <th>Holdeplass_Til</th>\n",
       "      <th>Linjetype</th>\n",
       "      <th>Linjefylke</th>\n",
       "      <th>Linjenavn</th>\n",
       "      <th>Linjeretning</th>\n",
       "      <th>Tidspunkt_Faktisk_Ankomst_Holdeplass_Fra</th>\n",
       "      <th>Tidspunkt_Faktisk_Avgang_Holdeplass_Fra</th>\n",
       "      <th>Tidspunkt_Planlagt_Ankomst_Holdeplass_Fra</th>\n",
       "      <th>Tidspunkt_Planlagt_Avgang_Holdeplass_Fra</th>\n",
       "      <th>Kjøretøy_Kapasitet</th>\n",
       "      <th>Passasjerer_Ombord</th>\n",
       "    </tr>\n",
       "  </thead>\n",
       "  <tbody>\n",
       "    <tr>\n",
       "      <th>0</th>\n",
       "      <td>15006-2020-08-10T10:24:00+02:00</td>\n",
       "      <td>10/08/2020</td>\n",
       "      <td>Viken</td>\n",
       "      <td>Vest</td>\n",
       "      <td>Bærum</td>\n",
       "      <td>Nordliveien</td>\n",
       "      <td>Tjernsmyr</td>\n",
       "      <td>Lokal</td>\n",
       "      <td>Viken</td>\n",
       "      <td>150</td>\n",
       "      <td>0</td>\n",
       "      <td>10:53:53</td>\n",
       "      <td>10:53:59</td>\n",
       "      <td>10:53:00</td>\n",
       "      <td>10:53:00</td>\n",
       "      <td>112</td>\n",
       "      <td>5</td>\n",
       "    </tr>\n",
       "    <tr>\n",
       "      <th>1</th>\n",
       "      <td>15002-2020-08-15T12:54:00+02:00</td>\n",
       "      <td>15/08/2020</td>\n",
       "      <td>Viken</td>\n",
       "      <td>Vest</td>\n",
       "      <td>Bærum</td>\n",
       "      <td>Nadderud stadion</td>\n",
       "      <td>Bekkestua bussterminal (Plattform C)</td>\n",
       "      <td>Lokal</td>\n",
       "      <td>Viken</td>\n",
       "      <td>150</td>\n",
       "      <td>0</td>\n",
       "      <td>13:12:20</td>\n",
       "      <td>13:12:26</td>\n",
       "      <td>13:12:00</td>\n",
       "      <td>13:12:00</td>\n",
       "      <td>112</td>\n",
       "      <td>5</td>\n",
       "    </tr>\n",
       "    <tr>\n",
       "      <th>2</th>\n",
       "      <td>15004-2020-08-03T09:54:00+02:00</td>\n",
       "      <td>03/08/2020</td>\n",
       "      <td>Viken</td>\n",
       "      <td>Vest</td>\n",
       "      <td>Bærum</td>\n",
       "      <td>Ringstabekkveien</td>\n",
       "      <td>Skallum</td>\n",
       "      <td>Lokal</td>\n",
       "      <td>Viken</td>\n",
       "      <td>150</td>\n",
       "      <td>0</td>\n",
       "      <td>10:18:56</td>\n",
       "      <td>10:19:21</td>\n",
       "      <td>10:19:00</td>\n",
       "      <td>10:19:00</td>\n",
       "      <td>112</td>\n",
       "      <td>6</td>\n",
       "    </tr>\n",
       "    <tr>\n",
       "      <th>3</th>\n",
       "      <td>15003-2020-07-27T13:00:00+02:00</td>\n",
       "      <td>27/07/2020</td>\n",
       "      <td>Viken</td>\n",
       "      <td>Vest</td>\n",
       "      <td>Bærum</td>\n",
       "      <td>Gruvemyra</td>\n",
       "      <td>Gullhaug</td>\n",
       "      <td>Lokal</td>\n",
       "      <td>Viken</td>\n",
       "      <td>150</td>\n",
       "      <td>1</td>\n",
       "      <td>13:52:04</td>\n",
       "      <td>13:52:26</td>\n",
       "      <td>13:51:00</td>\n",
       "      <td>13:51:00</td>\n",
       "      <td>112</td>\n",
       "      <td>10</td>\n",
       "    </tr>\n",
       "    <tr>\n",
       "      <th>4</th>\n",
       "      <td>15002-2020-08-27T07:15:00+02:00</td>\n",
       "      <td>27/08/2020</td>\n",
       "      <td>Viken</td>\n",
       "      <td>Vest</td>\n",
       "      <td>Bærum</td>\n",
       "      <td>Lysaker stasjon (Plattform A)</td>\n",
       "      <td>Tjernsmyr</td>\n",
       "      <td>Lokal</td>\n",
       "      <td>Viken</td>\n",
       "      <td>150</td>\n",
       "      <td>1</td>\n",
       "      <td>07:34:13</td>\n",
       "      <td>07:34:53</td>\n",
       "      <td>07:33:00</td>\n",
       "      <td>07:33:00</td>\n",
       "      <td>112</td>\n",
       "      <td>10</td>\n",
       "    </tr>\n",
       "  </tbody>\n",
       "</table>\n",
       "</div>"
      ],
      "text/plain": [
       "                             TurId        Dato  Fylke Område Kommune  \\\n",
       "0  15006-2020-08-10T10:24:00+02:00  10/08/2020  Viken   Vest   Bærum   \n",
       "1  15002-2020-08-15T12:54:00+02:00  15/08/2020  Viken   Vest   Bærum   \n",
       "2  15004-2020-08-03T09:54:00+02:00  03/08/2020  Viken   Vest   Bærum   \n",
       "3  15003-2020-07-27T13:00:00+02:00  27/07/2020  Viken   Vest   Bærum   \n",
       "4  15002-2020-08-27T07:15:00+02:00  27/08/2020  Viken   Vest   Bærum   \n",
       "\n",
       "                  Holdeplass_Fra                        Holdeplass_Til  \\\n",
       "0                    Nordliveien                             Tjernsmyr   \n",
       "1               Nadderud stadion  Bekkestua bussterminal (Plattform C)   \n",
       "2               Ringstabekkveien                               Skallum   \n",
       "3                      Gruvemyra                              Gullhaug   \n",
       "4  Lysaker stasjon (Plattform A)                             Tjernsmyr   \n",
       "\n",
       "  Linjetype Linjefylke Linjenavn  Linjeretning  \\\n",
       "0     Lokal      Viken       150             0   \n",
       "1     Lokal      Viken       150             0   \n",
       "2     Lokal      Viken       150             0   \n",
       "3     Lokal      Viken       150             1   \n",
       "4     Lokal      Viken       150             1   \n",
       "\n",
       "  Tidspunkt_Faktisk_Ankomst_Holdeplass_Fra  \\\n",
       "0                                 10:53:53   \n",
       "1                                 13:12:20   \n",
       "2                                 10:18:56   \n",
       "3                                 13:52:04   \n",
       "4                                 07:34:13   \n",
       "\n",
       "  Tidspunkt_Faktisk_Avgang_Holdeplass_Fra  \\\n",
       "0                                10:53:59   \n",
       "1                                13:12:26   \n",
       "2                                10:19:21   \n",
       "3                                13:52:26   \n",
       "4                                07:34:53   \n",
       "\n",
       "  Tidspunkt_Planlagt_Ankomst_Holdeplass_Fra  \\\n",
       "0                                  10:53:00   \n",
       "1                                  13:12:00   \n",
       "2                                  10:19:00   \n",
       "3                                  13:51:00   \n",
       "4                                  07:33:00   \n",
       "\n",
       "  Tidspunkt_Planlagt_Avgang_Holdeplass_Fra  Kjøretøy_Kapasitet  \\\n",
       "0                                 10:53:00                 112   \n",
       "1                                 13:12:00                 112   \n",
       "2                                 10:19:00                 112   \n",
       "3                                 13:51:00                 112   \n",
       "4                                 07:33:00                 112   \n",
       "\n",
       "   Passasjerer_Ombord  \n",
       "0                   5  \n",
       "1                   5  \n",
       "2                   6  \n",
       "3                  10  \n",
       "4                  10  "
      ]
     },
     "execution_count": 3,
     "metadata": {},
     "output_type": "execute_result"
    }
   ],
   "source": [
    "Ruter_df.head()"
   ]
  },
  {
   "cell_type": "code",
   "execution_count": 4,
   "metadata": {},
   "outputs": [
    {
     "data": {
      "text/html": [
       "<div>\n",
       "<style scoped>\n",
       "    .dataframe tbody tr th:only-of-type {\n",
       "        vertical-align: middle;\n",
       "    }\n",
       "\n",
       "    .dataframe tbody tr th {\n",
       "        vertical-align: top;\n",
       "    }\n",
       "\n",
       "    .dataframe thead th {\n",
       "        text-align: right;\n",
       "    }\n",
       "</style>\n",
       "<table border=\"1\" class=\"dataframe\">\n",
       "  <thead>\n",
       "    <tr style=\"text-align: right;\">\n",
       "      <th></th>\n",
       "      <th>TurId</th>\n",
       "      <th>Dato</th>\n",
       "      <th>Fylke</th>\n",
       "      <th>Område</th>\n",
       "      <th>Kommune</th>\n",
       "      <th>Holdeplass_Fra</th>\n",
       "      <th>Holdeplass_Til</th>\n",
       "      <th>Linjetype</th>\n",
       "      <th>Linjefylke</th>\n",
       "      <th>Linjenavn</th>\n",
       "      <th>Linjeretning</th>\n",
       "      <th>Tidspunkt_Faktisk_Ankomst_Holdeplass_Fra</th>\n",
       "      <th>Tidspunkt_Faktisk_Avgang_Holdeplass_Fra</th>\n",
       "      <th>Tidspunkt_Planlagt_Ankomst_Holdeplass_Fra</th>\n",
       "      <th>Tidspunkt_Planlagt_Avgang_Holdeplass_Fra</th>\n",
       "      <th>Kjøretøy_Kapasitet</th>\n",
       "      <th>Passasjerer_Ombord</th>\n",
       "    </tr>\n",
       "  </thead>\n",
       "  <tbody>\n",
       "    <tr>\n",
       "      <th>5995</th>\n",
       "      <td>10001-2020-06-10T15:10:00+02:00</td>\n",
       "      <td>10/06/2020</td>\n",
       "      <td>Viken</td>\n",
       "      <td>Nordøst</td>\n",
       "      <td>Lillestrøm</td>\n",
       "      <td>Brauterkrysset</td>\n",
       "      <td>Nordsnoveien</td>\n",
       "      <td>Lokal</td>\n",
       "      <td>Viken</td>\n",
       "      <td>100</td>\n",
       "      <td>1</td>\n",
       "      <td>16:23:18</td>\n",
       "      <td>16:23:48</td>\n",
       "      <td>16:10:00</td>\n",
       "      <td>16:10:00</td>\n",
       "      <td>151</td>\n",
       "      <td>2</td>\n",
       "    </tr>\n",
       "    <tr>\n",
       "      <th>5996</th>\n",
       "      <td>10010-2020-06-23T05:54:00+02:00</td>\n",
       "      <td>23/06/2020</td>\n",
       "      <td>Viken</td>\n",
       "      <td>Nordøst</td>\n",
       "      <td>Lillestrøm</td>\n",
       "      <td>Vestbygata</td>\n",
       "      <td>Bjørnsons gate</td>\n",
       "      <td>Lokal</td>\n",
       "      <td>Viken</td>\n",
       "      <td>100</td>\n",
       "      <td>0</td>\n",
       "      <td>06:00:32</td>\n",
       "      <td>06:00:40</td>\n",
       "      <td>05:59:00</td>\n",
       "      <td>05:59:00</td>\n",
       "      <td>151</td>\n",
       "      <td>2</td>\n",
       "    </tr>\n",
       "    <tr>\n",
       "      <th>5997</th>\n",
       "      <td>2007-2020-06-11T17:22:00+02:00</td>\n",
       "      <td>11/06/2020</td>\n",
       "      <td>Oslo</td>\n",
       "      <td>Indre By</td>\n",
       "      <td>Sagene</td>\n",
       "      <td>Torshovparken  (mot Torshovparken)</td>\n",
       "      <td>Torshov  (mot Bentsebrua)</td>\n",
       "      <td>Lokal</td>\n",
       "      <td>Oslo</td>\n",
       "      <td>20</td>\n",
       "      <td>1</td>\n",
       "      <td>17:42:43</td>\n",
       "      <td>17:43:10</td>\n",
       "      <td>17:32:00</td>\n",
       "      <td>17:32:00</td>\n",
       "      <td>106</td>\n",
       "      <td>3</td>\n",
       "    </tr>\n",
       "    <tr>\n",
       "      <th>5998</th>\n",
       "      <td>10004-2020-08-13T04:59:00+02:00</td>\n",
       "      <td>13/08/2020</td>\n",
       "      <td>Oslo</td>\n",
       "      <td>Indre By</td>\n",
       "      <td>Gamle Oslo</td>\n",
       "      <td>Harald Hårdrådes plass  (mot Grønland)</td>\n",
       "      <td>Oslo gate  (mot Grønland)</td>\n",
       "      <td>Lokal</td>\n",
       "      <td>Viken</td>\n",
       "      <td>100</td>\n",
       "      <td>0</td>\n",
       "      <td>06:00:11</td>\n",
       "      <td>06:00:23</td>\n",
       "      <td>05:59:00</td>\n",
       "      <td>05:59:00</td>\n",
       "      <td>151</td>\n",
       "      <td>5</td>\n",
       "    </tr>\n",
       "    <tr>\n",
       "      <th>5999</th>\n",
       "      <td>34013-2020-08-05T13:31:00+02:00</td>\n",
       "      <td>05/08/2020</td>\n",
       "      <td>Viken</td>\n",
       "      <td>Nordøst</td>\n",
       "      <td>Lillestrøm</td>\n",
       "      <td>Tandberg</td>\n",
       "      <td>Selmer</td>\n",
       "      <td>Lokal</td>\n",
       "      <td>Viken</td>\n",
       "      <td>340</td>\n",
       "      <td>1</td>\n",
       "      <td>13:52:44</td>\n",
       "      <td>13:52:48</td>\n",
       "      <td>13:50:00</td>\n",
       "      <td>13:50:00</td>\n",
       "      <td>105</td>\n",
       "      <td>-5</td>\n",
       "    </tr>\n",
       "  </tbody>\n",
       "</table>\n",
       "</div>"
      ],
      "text/plain": [
       "                                TurId        Dato  Fylke    Område  \\\n",
       "5995  10001-2020-06-10T15:10:00+02:00  10/06/2020  Viken   Nordøst   \n",
       "5996  10010-2020-06-23T05:54:00+02:00  23/06/2020  Viken   Nordøst   \n",
       "5997   2007-2020-06-11T17:22:00+02:00  11/06/2020   Oslo  Indre By   \n",
       "5998  10004-2020-08-13T04:59:00+02:00  13/08/2020   Oslo  Indre By   \n",
       "5999  34013-2020-08-05T13:31:00+02:00  05/08/2020  Viken   Nordøst   \n",
       "\n",
       "         Kommune                          Holdeplass_Fra  \\\n",
       "5995  Lillestrøm                          Brauterkrysset   \n",
       "5996  Lillestrøm                              Vestbygata   \n",
       "5997      Sagene      Torshovparken  (mot Torshovparken)   \n",
       "5998  Gamle Oslo  Harald Hårdrådes plass  (mot Grønland)   \n",
       "5999  Lillestrøm                                Tandberg   \n",
       "\n",
       "                 Holdeplass_Til Linjetype Linjefylke Linjenavn  Linjeretning  \\\n",
       "5995               Nordsnoveien     Lokal      Viken       100             1   \n",
       "5996             Bjørnsons gate     Lokal      Viken       100             0   \n",
       "5997  Torshov  (mot Bentsebrua)     Lokal       Oslo        20             1   \n",
       "5998  Oslo gate  (mot Grønland)     Lokal      Viken       100             0   \n",
       "5999                     Selmer     Lokal      Viken       340             1   \n",
       "\n",
       "     Tidspunkt_Faktisk_Ankomst_Holdeplass_Fra  \\\n",
       "5995                                 16:23:18   \n",
       "5996                                 06:00:32   \n",
       "5997                                 17:42:43   \n",
       "5998                                 06:00:11   \n",
       "5999                                 13:52:44   \n",
       "\n",
       "     Tidspunkt_Faktisk_Avgang_Holdeplass_Fra  \\\n",
       "5995                                16:23:48   \n",
       "5996                                06:00:40   \n",
       "5997                                17:43:10   \n",
       "5998                                06:00:23   \n",
       "5999                                13:52:48   \n",
       "\n",
       "     Tidspunkt_Planlagt_Ankomst_Holdeplass_Fra  \\\n",
       "5995                                  16:10:00   \n",
       "5996                                  05:59:00   \n",
       "5997                                  17:32:00   \n",
       "5998                                  05:59:00   \n",
       "5999                                  13:50:00   \n",
       "\n",
       "     Tidspunkt_Planlagt_Avgang_Holdeplass_Fra  Kjøretøy_Kapasitet  \\\n",
       "5995                                 16:10:00                 151   \n",
       "5996                                 05:59:00                 151   \n",
       "5997                                 17:32:00                 106   \n",
       "5998                                 05:59:00                 151   \n",
       "5999                                 13:50:00                 105   \n",
       "\n",
       "      Passasjerer_Ombord  \n",
       "5995                   2  \n",
       "5996                   2  \n",
       "5997                   3  \n",
       "5998                   5  \n",
       "5999                  -5  "
      ]
     },
     "execution_count": 4,
     "metadata": {},
     "output_type": "execute_result"
    }
   ],
   "source": [
    "Ruter_df.tail()"
   ]
  },
  {
   "cell_type": "code",
   "execution_count": 5,
   "metadata": {},
   "outputs": [
    {
     "data": {
      "text/plain": [
       "array(['150', '31', '490', '3772', '430', '110E', '260', '261', '100',\n",
       "       '310', '340', '480', '60', '410', '470', '290', '365', '285',\n",
       "       '425', '445', '400E', '350', '315', '34', '120', '240', '440',\n",
       "       '110', '251', '490E', '441', '450', '28', '210', '130', '455',\n",
       "       '41', '485', '140', '400', '45', '150E', '395', '381', '320',\n",
       "       '390', '74', '370A', '550', '37', '385', '3872', '480E', '270',\n",
       "       '46', '2135', '245', '397', '3773', '230', '330', '366', '40',\n",
       "       '21', '2139', '160E', '3533', '3874', '215B', '54', '3637', '3834',\n",
       "       '5N', '2733', '3839', '341', '396', '3677', '3658', '2633', '3780',\n",
       "       '3535', '370B', '300', '345', '3571', '220', '3684', '160', '420',\n",
       "       '280', '460', '115E', '215A', '380', '250', '360', '256', '390E',\n",
       "       '91', '442', '3783', '250E', '3676', '125E', '470E', '4B', '265',\n",
       "       '145', '2138', '375', '3172', '405', '2137', '265E', '321', '260E',\n",
       "       '2N', '255E', '3638', '300E', '3575', '20', '140E', '31E', '3833',\n",
       "       '335', '3335', '3742', '2634', '67', '3737', '3071', '3643',\n",
       "       '2933', '2640', '3644', '3175', '3634', '3837', '3633', '2043',\n",
       "       '3538', '3731', '451', '446', '3639', '2931', '3674', '452'],\n",
       "      dtype=object)"
      ]
     },
     "execution_count": 5,
     "metadata": {},
     "output_type": "execute_result"
    }
   ],
   "source": [
    "pd.unique(Ruter_df['Linjenavn'])"
   ]
  },
  {
   "cell_type": "code",
   "execution_count": 6,
   "metadata": {},
   "outputs": [
    {
     "data": {
      "text/plain": [
       "array(['Viken', 'Oslo'], dtype=object)"
      ]
     },
     "execution_count": 6,
     "metadata": {},
     "output_type": "execute_result"
    }
   ],
   "source": [
    "pd.unique(Ruter_df['Fylke'])"
   ]
  },
  {
   "cell_type": "code",
   "execution_count": 19,
   "metadata": {},
   "outputs": [
    {
     "data": {
      "text/plain": [
       "array([112, 151, 106,  71, 115,  72, 105,  33,  77,  80,  75,  70,  76,\n",
       "        69, 130,  47, 103, 102])"
      ]
     },
     "execution_count": 19,
     "metadata": {},
     "output_type": "execute_result"
    }
   ],
   "source": [
    "pd.unique(Ruter_df['Kjøretøy_Kapasitet'])"
   ]
  },
  {
   "cell_type": "code",
   "execution_count": null,
   "metadata": {},
   "outputs": [],
   "source": [
    "len(pd.unique(Ruter_df['Kjøretøy_Kapasitet']))"
   ]
  },
  {
   "cell_type": "code",
   "execution_count": 12,
   "metadata": {},
   "outputs": [
    {
     "data": {
      "text/plain": [
       "<AxesSubplot:ylabel='Frequency'>"
      ]
     },
     "execution_count": 12,
     "metadata": {},
     "output_type": "execute_result"
    },
    {
     "data": {
      "image/png": "[encoded data removed]",
      "text/plain": [
       "<Figure size 432x288 with 1 Axes>"
      ]
     },
     "metadata": {
      "needs_background": "light"
     },
     "output_type": "display_data"
    }
   ],
   "source": [
    "Ruter_df['Kjøretøy_Kapasitet'].plot.hist(bins = 18)"
   ]
  },
  {
   "cell_type": "code",
   "execution_count": 17,
   "metadata": {},
   "outputs": [
    {
     "data": {
      "text/plain": [
       "(array([  68.,    0.,   39.,    0.,    0.,  799.,  179.,  452.,    0.,\n",
       "           0.,  480., 1805., 1283.,    0.,  205.,    0.,    0.,  690.]),\n",
       " array([ 33.        ,  39.55555556,  46.11111111,  52.66666667,\n",
       "         59.22222222,  65.77777778,  72.33333333,  78.88888889,\n",
       "         85.44444444,  92.        ,  98.55555556, 105.11111111,\n",
       "        111.66666667, 118.22222222, 124.77777778, 131.33333333,\n",
       "        137.88888889, 144.44444444, 151.        ]),\n",
       " <BarContainer object of 18 artists>)"
      ]
     },
     "execution_count": 17,
     "metadata": {},
     "output_type": "execute_result"
    },
    {
     "data": {
      "image/png": "[encoded data removed]",
      "text/plain": [
       "<Figure size 432x288 with 1 Axes>"
      ]
     },
     "metadata": {
      "needs_background": "light"
     },
     "output_type": "display_data"
    }
   ],
   "source": [
    "fig_kap = plt.figure() #fig_kap = figure for kapasitet\n",
    "ax_kap = fig_kap.add_subplot(1,1,1) #ax_kap = axis for kapasitet\n",
    "ax_kap.set_xlabel('Kapasitet')\n",
    "ax_kap.set_ylabel('Frekvens')\n",
    "ax_kap.hist(Ruter_df.Kjøretøy_Kapasitet, bins=18)"
   ]
  },
  {
   "cell_type": "code",
   "execution_count": 21,
   "metadata": {},
   "outputs": [
    {
     "data": {
      "text/plain": [
       "array(['10/08/2020', '15/08/2020', '03/08/2020', '27/07/2020',\n",
       "       '27/08/2020', '01/08/2020', '28/07/2020', '16/08/2020',\n",
       "       '13/08/2020', '23/06/2020', '17/08/2020', '26/07/2020',\n",
       "       '06/08/2020', '17/07/2020', '08/08/2020', '16/06/2020',\n",
       "       '16/07/2020', '27/06/2020', '12/06/2020', '03/06/2020',\n",
       "       '25/08/2020', '30/06/2020', '11/08/2020', '22/07/2020',\n",
       "       '14/08/2020', '02/08/2020', '13/07/2020', '09/06/2020',\n",
       "       '18/06/2020', '02/06/2020', '30/07/2020', '09/08/2020',\n",
       "       '01/07/2020', '18/08/2020', '20/07/2020', '15/07/2020',\n",
       "       '04/07/2020', '11/06/2020', '29/07/2020', '03/07/2020',\n",
       "       '08/07/2020', '14/06/2020', '14/07/2020', '26/06/2020',\n",
       "       '07/07/2020', '19/08/2020', '17/06/2020', '21/06/2020',\n",
       "       '26/08/2020', '20/06/2020', '13/06/2020', '09/07/2020',\n",
       "       '19/07/2020', '02/07/2020', '29/06/2020', '05/08/2020',\n",
       "       '28/06/2020', '18/07/2020', '15/06/2020', '04/06/2020',\n",
       "       '07/08/2020', '22/06/2020', '23/07/2020', '25/07/2020',\n",
       "       '05/07/2020', '01/06/2020', '30/08/2020', '22/08/2020',\n",
       "       '23/08/2020', '05/06/2020', '21/07/2020', '21/08/2020',\n",
       "       '24/07/2020', '28/08/2020', '12/08/2020', '31/07/2020',\n",
       "       '11/07/2020', '04/08/2020', '24/06/2020', '10/06/2020',\n",
       "       '29/08/2020', '19/06/2020', '08/06/2020', '20/08/2020',\n",
       "       '10/07/2020', '07/06/2020', '25/06/2020', '24/08/2020',\n",
       "       '12/07/2020', '06/06/2020'], dtype=object)"
      ]
     },
     "execution_count": 21,
     "metadata": {},
     "output_type": "execute_result"
    }
   ],
   "source": [
    "pd.unique(Ruter_df.Dato)"
   ]
  },
  {
   "cell_type": "code",
   "execution_count": 22,
   "metadata": {},
   "outputs": [
    {
     "data": {
      "text/plain": [
       "90"
      ]
     },
     "execution_count": 22,
     "metadata": {},
     "output_type": "execute_result"
    }
   ],
   "source": [
    "len(pd.unique(Ruter_df.Dato))"
   ]
  },
  {
   "cell_type": "code",
   "execution_count": 23,
   "metadata": {},
   "outputs": [
    {
     "data": {
      "text/plain": [
       "0       150\n",
       "1       150\n",
       "2       150\n",
       "3       150\n",
       "4       150\n",
       "       ... \n",
       "5995    100\n",
       "5996    100\n",
       "5997     20\n",
       "5998    100\n",
       "5999    340\n",
       "Name: Linjenavn, Length: 6000, dtype: object"
      ]
     },
     "execution_count": 23,
     "metadata": {},
     "output_type": "execute_result"
    }
   ],
   "source": [
    "Ruter_df.Linjenavn"
   ]
  },
  {
   "cell_type": "code",
   "execution_count": 24,
   "metadata": {},
   "outputs": [
    {
     "data": {
      "text/plain": [
       "array(['150', '31', '490', '3772', '430', '110E', '260', '261', '100',\n",
       "       '310', '340', '480', '60', '410', '470', '290', '365', '285',\n",
       "       '425', '445', '400E', '350', '315', '34', '120', '240', '440',\n",
       "       '110', '251', '490E', '441', '450', '28', '210', '130', '455',\n",
       "       '41', '485', '140', '400', '45', '150E', '395', '381', '320',\n",
       "       '390', '74', '370A', '550', '37', '385', '3872', '480E', '270',\n",
       "       '46', '2135', '245', '397', '3773', '230', '330', '366', '40',\n",
       "       '21', '2139', '160E', '3533', '3874', '215B', '54', '3637', '3834',\n",
       "       '5N', '2733', '3839', '341', '396', '3677', '3658', '2633', '3780',\n",
       "       '3535', '370B', '300', '345', '3571', '220', '3684', '160', '420',\n",
       "       '280', '460', '115E', '215A', '380', '250', '360', '256', '390E',\n",
       "       '91', '442', '3783', '250E', '3676', '125E', '470E', '4B', '265',\n",
       "       '145', '2138', '375', '3172', '405', '2137', '265E', '321', '260E',\n",
       "       '2N', '255E', '3638', '300E', '3575', '20', '140E', '31E', '3833',\n",
       "       '335', '3335', '3742', '2634', '67', '3737', '3071', '3643',\n",
       "       '2933', '2640', '3644', '3175', '3634', '3837', '3633', '2043',\n",
       "       '3538', '3731', '451', '446', '3639', '2931', '3674', '452'],\n",
       "      dtype=object)"
      ]
     },
     "execution_count": 24,
     "metadata": {},
     "output_type": "execute_result"
    }
   ],
   "source": [
    "pd.unique(Ruter_df.Linjenavn)"
   ]
  },
  {
   "cell_type": "code",
   "execution_count": 25,
   "metadata": {},
   "outputs": [
    {
     "data": {
      "text/plain": [
       "150"
      ]
     },
     "execution_count": 25,
     "metadata": {},
     "output_type": "execute_result"
    }
   ],
   "source": [
    "len(pd.unique(Ruter_df.Linjenavn))"
   ]
  },
  {
   "cell_type": "code",
   "execution_count": 39,
   "metadata": {},
   "outputs": [
    {
     "data": {
      "text/plain": [
       "(array([113.,  15.,   8.,   9.,   2.,   1.,   0.,   1.,   0.,   1.]),\n",
       " array([  1. ,  47.4,  93.8, 140.2, 186.6, 233. , 279.4, 325.8, 372.2,\n",
       "        418.6, 465. ]),\n",
       " <BarContainer object of 10 artists>)"
      ]
     },
     "execution_count": 39,
     "metadata": {},
     "output_type": "execute_result"
    },
    {
     "data": {
      "image/png": "[encoded data removed]",
      "text/plain": [
       "<Figure size 432x288 with 1 Axes>"
      ]
     },
     "metadata": {
      "needs_background": "light"
     },
     "output_type": "display_data"
    }
   ],
   "source": [
    "fig_Lname = plt.figure() #fig_Lname = figure for linjenavn\n",
    "ax_Lname = fig_Lname.add_subplot(1,1,1) #ax_Lname = axis for linjenavn\n",
    "ax_Lname.set_xlabel('Linjenavn')\n",
    "ax_Lname.set_ylabel('Frekvens')\n",
    "ax_Lname.hist(Ruter_df.Linjenavn.value_counts())"
   ]
  },
  {
   "cell_type": "code",
   "execution_count": 40,
   "metadata": {},
   "outputs": [
    {
     "data": {
      "text/plain": [
       "100     465\n",
       "110     362\n",
       "390     247\n",
       "31      220\n",
       "360     189\n",
       "       ... \n",
       "3175      1\n",
       "3634      1\n",
       "2N        1\n",
       "67        1\n",
       "3674      1\n",
       "Name: Linjenavn, Length: 150, dtype: int64"
      ]
     },
     "execution_count": 40,
     "metadata": {},
     "output_type": "execute_result"
    }
   ],
   "source": [
    "Ruter_df.Linjenavn.value_counts()"
   ]
  },
  {
   "cell_type": "code",
   "execution_count": 41,
   "metadata": {},
   "outputs": [
    {
     "data": {
      "text/plain": [
       "array(['Bærum', 'Bjerke', 'St.Hanshaugen', 'Indre Østfold', 'Sentrum',\n",
       "       'Ullensaker', 'Eidsvoll', 'Lørenskog', 'Asker', 'Lillestrøm',\n",
       "       'Rælingen', 'Alna', 'Aurskog-Høland', 'Gamle Oslo', 'Nannestad',\n",
       "       'Hurdal', 'Gjerdrum', 'Enebakk', 'Stovner', 'Nes', 'Grünerløkka',\n",
       "       'Nordmarka', 'Grorud', 'Ullern', 'Vestre Aker', 'Nittedal',\n",
       "       'Nordstrand', 'Nordre Follo', 'Sagene', 'Søndre Nordstrand',\n",
       "       'Nordre Aker', 'Frogner', 'Lier', 'Drammen'], dtype=object)"
      ]
     },
     "execution_count": 41,
     "metadata": {},
     "output_type": "execute_result"
    }
   ],
   "source": [
    "pd.unique(Ruter_df.Kommune)"
   ]
  },
  {
   "cell_type": "code",
   "execution_count": 43,
   "metadata": {},
   "outputs": [
    {
     "data": {
      "text/plain": [
       "(array([4.000e+00, 8.000e+00, 6.100e+01, 2.670e+03, 2.619e+03, 5.260e+02,\n",
       "        9.000e+01, 1.600e+01, 4.000e+00, 2.000e+00]),\n",
       " array([-39. , -28.7, -18.4,  -8.1,   2.2,  12.5,  22.8,  33.1,  43.4,\n",
       "         53.7,  64. ]),\n",
       " <BarContainer object of 10 artists>)"
      ]
     },
     "execution_count": 43,
     "metadata": {},
     "output_type": "execute_result"
    },
    {
     "data": {
      "image/png": "[encoded data removed]",
      "text/plain": [
       "<Figure size 432x288 with 1 Axes>"
      ]
     },
     "metadata": {
      "needs_background": "light"
     },
     "output_type": "display_data"
    }
   ],
   "source": [
    "fig_passanger = plt.figure() #fig_Lname = figure for linjenavn\n",
    "ax_passanger = fig_passanger.add_subplot(1,1,1) #ax_Lname = axis for linjenavn\n",
    "ax_passanger.set_xlabel('Linjenavn')\n",
    "ax_passanger.set_ylabel('Frekvens')\n",
    "ax_passanger.hist(Ruter_df.Passasjerer_Ombord)"
   ]
  },
  {
   "cell_type": "code",
   "execution_count": 44,
   "metadata": {},
   "outputs": [
    {
     "data": {
      "text/plain": [
       "array([  5,   6,  10,   8,   1,  -1,   2,   4,  -2,   0,   9,  -5,  -7,\n",
       "         3,  11,  -3,  36,  -8,  -6,   7,  13,  30,  -4, -10,  17,  15,\n",
       "        19,  14,  16,  24,  12,  25,  28,  18,  34,  20, -17,  22,  31,\n",
       "       -13, -12, -11, -39,  21, -19,  23, -18,  33,  26,  -9,  38,  29,\n",
       "        39, -22,  45,  35, -16, -14,  37,  52,  27,  42,  64, -15,  40,\n",
       "       -24, -29,  32, -20, -34])"
      ]
     },
     "execution_count": 44,
     "metadata": {},
     "output_type": "execute_result"
    }
   ],
   "source": [
    "pd.unique(Ruter_df.Passasjerer_Ombord)"
   ]
  },
  {
   "cell_type": "code",
   "execution_count": 55,
   "metadata": {},
   "outputs": [
    {
     "data": {
      "text/html": [
       "<div>\n",
       "<style scoped>\n",
       "    .dataframe tbody tr th:only-of-type {\n",
       "        vertical-align: middle;\n",
       "    }\n",
       "\n",
       "    .dataframe tbody tr th {\n",
       "        vertical-align: top;\n",
       "    }\n",
       "\n",
       "    .dataframe thead th {\n",
       "        text-align: right;\n",
       "    }\n",
       "</style>\n",
       "<table border=\"1\" class=\"dataframe\">\n",
       "  <thead>\n",
       "    <tr style=\"text-align: right;\">\n",
       "      <th></th>\n",
       "      <th>TurId</th>\n",
       "      <th>Dato</th>\n",
       "      <th>Fylke</th>\n",
       "      <th>Område</th>\n",
       "      <th>Kommune</th>\n",
       "      <th>Holdeplass_Fra</th>\n",
       "      <th>Holdeplass_Til</th>\n",
       "      <th>Linjetype</th>\n",
       "      <th>Linjefylke</th>\n",
       "      <th>Linjenavn</th>\n",
       "      <th>Linjeretning</th>\n",
       "      <th>Tidspunkt_Faktisk_Ankomst_Holdeplass_Fra</th>\n",
       "      <th>Tidspunkt_Faktisk_Avgang_Holdeplass_Fra</th>\n",
       "      <th>Tidspunkt_Planlagt_Ankomst_Holdeplass_Fra</th>\n",
       "      <th>Tidspunkt_Planlagt_Avgang_Holdeplass_Fra</th>\n",
       "      <th>Kjøretøy_Kapasitet</th>\n",
       "      <th>Passasjerer_Ombord</th>\n",
       "    </tr>\n",
       "  </thead>\n",
       "  <tbody>\n",
       "    <tr>\n",
       "      <th>0</th>\n",
       "      <td>15006-2020-08-10T10:24:00+02:00</td>\n",
       "      <td>10/08/2020</td>\n",
       "      <td>Viken</td>\n",
       "      <td>Vest</td>\n",
       "      <td>Bærum</td>\n",
       "      <td>Nordliveien</td>\n",
       "      <td>Tjernsmyr</td>\n",
       "      <td>Lokal</td>\n",
       "      <td>Viken</td>\n",
       "      <td>150</td>\n",
       "      <td>0</td>\n",
       "      <td>10:53:53</td>\n",
       "      <td>10:53:59</td>\n",
       "      <td>10:53:00</td>\n",
       "      <td>10:53:00</td>\n",
       "      <td>112</td>\n",
       "      <td>5</td>\n",
       "    </tr>\n",
       "    <tr>\n",
       "      <th>1</th>\n",
       "      <td>15002-2020-08-15T12:54:00+02:00</td>\n",
       "      <td>15/08/2020</td>\n",
       "      <td>Viken</td>\n",
       "      <td>Vest</td>\n",
       "      <td>Bærum</td>\n",
       "      <td>Nadderud stadion</td>\n",
       "      <td>Bekkestua bussterminal (Plattform C)</td>\n",
       "      <td>Lokal</td>\n",
       "      <td>Viken</td>\n",
       "      <td>150</td>\n",
       "      <td>0</td>\n",
       "      <td>13:12:20</td>\n",
       "      <td>13:12:26</td>\n",
       "      <td>13:12:00</td>\n",
       "      <td>13:12:00</td>\n",
       "      <td>112</td>\n",
       "      <td>5</td>\n",
       "    </tr>\n",
       "    <tr>\n",
       "      <th>2</th>\n",
       "      <td>15004-2020-08-03T09:54:00+02:00</td>\n",
       "      <td>03/08/2020</td>\n",
       "      <td>Viken</td>\n",
       "      <td>Vest</td>\n",
       "      <td>Bærum</td>\n",
       "      <td>Ringstabekkveien</td>\n",
       "      <td>Skallum</td>\n",
       "      <td>Lokal</td>\n",
       "      <td>Viken</td>\n",
       "      <td>150</td>\n",
       "      <td>0</td>\n",
       "      <td>10:18:56</td>\n",
       "      <td>10:19:21</td>\n",
       "      <td>10:19:00</td>\n",
       "      <td>10:19:00</td>\n",
       "      <td>112</td>\n",
       "      <td>6</td>\n",
       "    </tr>\n",
       "    <tr>\n",
       "      <th>3</th>\n",
       "      <td>15003-2020-07-27T13:00:00+02:00</td>\n",
       "      <td>27/07/2020</td>\n",
       "      <td>Viken</td>\n",
       "      <td>Vest</td>\n",
       "      <td>Bærum</td>\n",
       "      <td>Gruvemyra</td>\n",
       "      <td>Gullhaug</td>\n",
       "      <td>Lokal</td>\n",
       "      <td>Viken</td>\n",
       "      <td>150</td>\n",
       "      <td>1</td>\n",
       "      <td>13:52:04</td>\n",
       "      <td>13:52:26</td>\n",
       "      <td>13:51:00</td>\n",
       "      <td>13:51:00</td>\n",
       "      <td>112</td>\n",
       "      <td>10</td>\n",
       "    </tr>\n",
       "    <tr>\n",
       "      <th>4</th>\n",
       "      <td>15002-2020-08-27T07:15:00+02:00</td>\n",
       "      <td>27/08/2020</td>\n",
       "      <td>Viken</td>\n",
       "      <td>Vest</td>\n",
       "      <td>Bærum</td>\n",
       "      <td>Lysaker stasjon (Plattform A)</td>\n",
       "      <td>Tjernsmyr</td>\n",
       "      <td>Lokal</td>\n",
       "      <td>Viken</td>\n",
       "      <td>150</td>\n",
       "      <td>1</td>\n",
       "      <td>07:34:13</td>\n",
       "      <td>07:34:53</td>\n",
       "      <td>07:33:00</td>\n",
       "      <td>07:33:00</td>\n",
       "      <td>112</td>\n",
       "      <td>10</td>\n",
       "    </tr>\n",
       "    <tr>\n",
       "      <th>...</th>\n",
       "      <td>...</td>\n",
       "      <td>...</td>\n",
       "      <td>...</td>\n",
       "      <td>...</td>\n",
       "      <td>...</td>\n",
       "      <td>...</td>\n",
       "      <td>...</td>\n",
       "      <td>...</td>\n",
       "      <td>...</td>\n",
       "      <td>...</td>\n",
       "      <td>...</td>\n",
       "      <td>...</td>\n",
       "      <td>...</td>\n",
       "      <td>...</td>\n",
       "      <td>...</td>\n",
       "      <td>...</td>\n",
       "      <td>...</td>\n",
       "    </tr>\n",
       "    <tr>\n",
       "      <th>5994</th>\n",
       "      <td>12001-2020-06-02T23:15:00+02:00</td>\n",
       "      <td>02/06/2020</td>\n",
       "      <td>Viken</td>\n",
       "      <td>Nordøst</td>\n",
       "      <td>Rælingen</td>\n",
       "      <td>Kurlandsveien</td>\n",
       "      <td>Frydenbergveien</td>\n",
       "      <td>Lokal</td>\n",
       "      <td>Viken</td>\n",
       "      <td>310</td>\n",
       "      <td>0</td>\n",
       "      <td>23:29:01</td>\n",
       "      <td>23:29:05</td>\n",
       "      <td>23:27:00</td>\n",
       "      <td>23:27:00</td>\n",
       "      <td>72</td>\n",
       "      <td>0</td>\n",
       "    </tr>\n",
       "    <tr>\n",
       "      <th>5995</th>\n",
       "      <td>10001-2020-06-10T15:10:00+02:00</td>\n",
       "      <td>10/06/2020</td>\n",
       "      <td>Viken</td>\n",
       "      <td>Nordøst</td>\n",
       "      <td>Lillestrøm</td>\n",
       "      <td>Brauterkrysset</td>\n",
       "      <td>Nordsnoveien</td>\n",
       "      <td>Lokal</td>\n",
       "      <td>Viken</td>\n",
       "      <td>100</td>\n",
       "      <td>1</td>\n",
       "      <td>16:23:18</td>\n",
       "      <td>16:23:48</td>\n",
       "      <td>16:10:00</td>\n",
       "      <td>16:10:00</td>\n",
       "      <td>151</td>\n",
       "      <td>2</td>\n",
       "    </tr>\n",
       "    <tr>\n",
       "      <th>5996</th>\n",
       "      <td>10010-2020-06-23T05:54:00+02:00</td>\n",
       "      <td>23/06/2020</td>\n",
       "      <td>Viken</td>\n",
       "      <td>Nordøst</td>\n",
       "      <td>Lillestrøm</td>\n",
       "      <td>Vestbygata</td>\n",
       "      <td>Bjørnsons gate</td>\n",
       "      <td>Lokal</td>\n",
       "      <td>Viken</td>\n",
       "      <td>100</td>\n",
       "      <td>0</td>\n",
       "      <td>06:00:32</td>\n",
       "      <td>06:00:40</td>\n",
       "      <td>05:59:00</td>\n",
       "      <td>05:59:00</td>\n",
       "      <td>151</td>\n",
       "      <td>2</td>\n",
       "    </tr>\n",
       "    <tr>\n",
       "      <th>5997</th>\n",
       "      <td>2007-2020-06-11T17:22:00+02:00</td>\n",
       "      <td>11/06/2020</td>\n",
       "      <td>Oslo</td>\n",
       "      <td>Indre By</td>\n",
       "      <td>Sagene</td>\n",
       "      <td>Torshovparken  (mot Torshovparken)</td>\n",
       "      <td>Torshov  (mot Bentsebrua)</td>\n",
       "      <td>Lokal</td>\n",
       "      <td>Oslo</td>\n",
       "      <td>20</td>\n",
       "      <td>1</td>\n",
       "      <td>17:42:43</td>\n",
       "      <td>17:43:10</td>\n",
       "      <td>17:32:00</td>\n",
       "      <td>17:32:00</td>\n",
       "      <td>106</td>\n",
       "      <td>3</td>\n",
       "    </tr>\n",
       "    <tr>\n",
       "      <th>5998</th>\n",
       "      <td>10004-2020-08-13T04:59:00+02:00</td>\n",
       "      <td>13/08/2020</td>\n",
       "      <td>Oslo</td>\n",
       "      <td>Indre By</td>\n",
       "      <td>Gamle Oslo</td>\n",
       "      <td>Harald Hårdrådes plass  (mot Grønland)</td>\n",
       "      <td>Oslo gate  (mot Grønland)</td>\n",
       "      <td>Lokal</td>\n",
       "      <td>Viken</td>\n",
       "      <td>100</td>\n",
       "      <td>0</td>\n",
       "      <td>06:00:11</td>\n",
       "      <td>06:00:23</td>\n",
       "      <td>05:59:00</td>\n",
       "      <td>05:59:00</td>\n",
       "      <td>151</td>\n",
       "      <td>5</td>\n",
       "    </tr>\n",
       "  </tbody>\n",
       "</table>\n",
       "<p>5333 rows × 17 columns</p>\n",
       "</div>"
      ],
      "text/plain": [
       "                                TurId        Dato  Fylke    Område  \\\n",
       "0     15006-2020-08-10T10:24:00+02:00  10/08/2020  Viken      Vest   \n",
       "1     15002-2020-08-15T12:54:00+02:00  15/08/2020  Viken      Vest   \n",
       "2     15004-2020-08-03T09:54:00+02:00  03/08/2020  Viken      Vest   \n",
       "3     15003-2020-07-27T13:00:00+02:00  27/07/2020  Viken      Vest   \n",
       "4     15002-2020-08-27T07:15:00+02:00  27/08/2020  Viken      Vest   \n",
       "...                               ...         ...    ...       ...   \n",
       "5994  12001-2020-06-02T23:15:00+02:00  02/06/2020  Viken   Nordøst   \n",
       "5995  10001-2020-06-10T15:10:00+02:00  10/06/2020  Viken   Nordøst   \n",
       "5996  10010-2020-06-23T05:54:00+02:00  23/06/2020  Viken   Nordøst   \n",
       "5997   2007-2020-06-11T17:22:00+02:00  11/06/2020   Oslo  Indre By   \n",
       "5998  10004-2020-08-13T04:59:00+02:00  13/08/2020   Oslo  Indre By   \n",
       "\n",
       "         Kommune                          Holdeplass_Fra  \\\n",
       "0          Bærum                             Nordliveien   \n",
       "1          Bærum                        Nadderud stadion   \n",
       "2          Bærum                        Ringstabekkveien   \n",
       "3          Bærum                               Gruvemyra   \n",
       "4          Bærum           Lysaker stasjon (Plattform A)   \n",
       "...          ...                                     ...   \n",
       "5994    Rælingen                           Kurlandsveien   \n",
       "5995  Lillestrøm                          Brauterkrysset   \n",
       "5996  Lillestrøm                              Vestbygata   \n",
       "5997      Sagene      Torshovparken  (mot Torshovparken)   \n",
       "5998  Gamle Oslo  Harald Hårdrådes plass  (mot Grønland)   \n",
       "\n",
       "                            Holdeplass_Til Linjetype Linjefylke Linjenavn  \\\n",
       "0                                Tjernsmyr     Lokal      Viken       150   \n",
       "1     Bekkestua bussterminal (Plattform C)     Lokal      Viken       150   \n",
       "2                                  Skallum     Lokal      Viken       150   \n",
       "3                                 Gullhaug     Lokal      Viken       150   \n",
       "4                                Tjernsmyr     Lokal      Viken       150   \n",
       "...                                    ...       ...        ...       ...   \n",
       "5994                       Frydenbergveien     Lokal      Viken       310   \n",
       "5995                          Nordsnoveien     Lokal      Viken       100   \n",
       "5996                        Bjørnsons gate     Lokal      Viken       100   \n",
       "5997             Torshov  (mot Bentsebrua)     Lokal       Oslo        20   \n",
       "5998             Oslo gate  (mot Grønland)     Lokal      Viken       100   \n",
       "\n",
       "      Linjeretning Tidspunkt_Faktisk_Ankomst_Holdeplass_Fra  \\\n",
       "0                0                                 10:53:53   \n",
       "1                0                                 13:12:20   \n",
       "2                0                                 10:18:56   \n",
       "3                1                                 13:52:04   \n",
       "4                1                                 07:34:13   \n",
       "...            ...                                      ...   \n",
       "5994             0                                 23:29:01   \n",
       "5995             1                                 16:23:18   \n",
       "5996             0                                 06:00:32   \n",
       "5997             1                                 17:42:43   \n",
       "5998             0                                 06:00:11   \n",
       "\n",
       "     Tidspunkt_Faktisk_Avgang_Holdeplass_Fra  \\\n",
       "0                                   10:53:59   \n",
       "1                                   13:12:26   \n",
       "2                                   10:19:21   \n",
       "3                                   13:52:26   \n",
       "4                                   07:34:53   \n",
       "...                                      ...   \n",
       "5994                                23:29:05   \n",
       "5995                                16:23:48   \n",
       "5996                                06:00:40   \n",
       "5997                                17:43:10   \n",
       "5998                                06:00:23   \n",
       "\n",
       "     Tidspunkt_Planlagt_Ankomst_Holdeplass_Fra  \\\n",
       "0                                     10:53:00   \n",
       "1                                     13:12:00   \n",
       "2                                     10:19:00   \n",
       "3                                     13:51:00   \n",
       "4                                     07:33:00   \n",
       "...                                        ...   \n",
       "5994                                  23:27:00   \n",
       "5995                                  16:10:00   \n",
       "5996                                  05:59:00   \n",
       "5997                                  17:32:00   \n",
       "5998                                  05:59:00   \n",
       "\n",
       "     Tidspunkt_Planlagt_Avgang_Holdeplass_Fra  Kjøretøy_Kapasitet  \\\n",
       "0                                    10:53:00                 112   \n",
       "1                                    13:12:00                 112   \n",
       "2                                    10:19:00                 112   \n",
       "3                                    13:51:00                 112   \n",
       "4                                    07:33:00                 112   \n",
       "...                                       ...                 ...   \n",
       "5994                                 23:27:00                  72   \n",
       "5995                                 16:10:00                 151   \n",
       "5996                                 05:59:00                 151   \n",
       "5997                                 17:32:00                 106   \n",
       "5998                                 05:59:00                 151   \n",
       "\n",
       "      Passasjerer_Ombord  \n",
       "0                      5  \n",
       "1                      5  \n",
       "2                      6  \n",
       "3                     10  \n",
       "4                     10  \n",
       "...                  ...  \n",
       "5994                   0  \n",
       "5995                   2  \n",
       "5996                   2  \n",
       "5997                   3  \n",
       "5998                   5  \n",
       "\n",
       "[5333 rows x 17 columns]"
      ]
     },
     "execution_count": 55,
     "metadata": {},
     "output_type": "execute_result"
    }
   ],
   "source": [
    "kap = pd.unique(Ruter_df.Kjøretøy_Kapasitet)\n",
    "maks_kap = np.max(kap)\n",
    "\n",
    "ngren = 0 # ngren = nedre grense\n",
    "mgren = maks_kap # mgren = maks grense\n",
    "\n",
    "passasjer = Ruter_df['Passasjerer_Ombord']\n",
    "pas = Ruter_df[(passasjer>=ngren)&(passasjer<=mgren)]\n",
    "pas"
   ]
  },
  {
   "cell_type": "code",
   "execution_count": 49,
   "metadata": {},
   "outputs": [
    {
     "data": {
      "text/plain": [
       "151"
      ]
     },
     "execution_count": 49,
     "metadata": {},
     "output_type": "execute_result"
    }
   ],
   "source": []
  },
  {
   "cell_type": "code",
   "execution_count": null,
   "metadata": {},
   "outputs": [],
   "source": []
  }
 ],
 "metadata": {
  "kernelspec": {
   "display_name": "Python 3",
   "language": "python",
   "name": "python3"
  },
  "language_info": {
   "codemirror_mode": {
    "name": "ipython",
    "version": 3
   },
   "file_extension": ".py",
   "mimetype": "text/x-python",
   "name": "python",
   "nbconvert_exporter": "python",
   "pygments_lexer": "ipython3",
   "version": "3.8.5"
  }
 },
 "nbformat": 4,
 "nbformat_minor": 4
}
