{
 "cells": [
  {
   "cell_type": "markdown",
   "metadata": {},
   "source": [
    "# Assignment 1"
   ]
  },
  {
   "cell_type": "code",
   "execution_count": 1,
   "metadata": {},
   "outputs": [],
   "source": [
    "import numpy as np\n",
    "import matplotlib.pyplot as plt\n",
    "import seaborn as sns\n",
    "import pandas as pd"
   ]
  },
  {
   "cell_type": "code",
   "execution_count": 2,
   "metadata": {},
   "outputs": [],
   "source": [
    "url = 'https://raw.githubusercontent.com/umaimehm/Intro_to_AI/master/assignment1/Ruter_data.csv'\n",
    "Ruter_df = pd.read_csv(url, delimiter = ';')"
   ]
  },
  {
   "cell_type": "code",
   "execution_count": 3,
   "metadata": {},
   "outputs": [
    {
     "data": {
      "text/html": [
       "<div>\n",
       "<style scoped>\n",
       "    .dataframe tbody tr th:only-of-type {\n",
       "        vertical-align: middle;\n",
       "    }\n",
       "\n",
       "    .dataframe tbody tr th {\n",
       "        vertical-align: top;\n",
       "    }\n",
       "\n",
       "    .dataframe thead th {\n",
       "        text-align: right;\n",
       "    }\n",
       "</style>\n",
       "<table border=\"1\" class=\"dataframe\">\n",
       "  <thead>\n",
       "    <tr style=\"text-align: right;\">\n",
       "      <th></th>\n",
       "      <th>TurId</th>\n",
       "      <th>Dato</th>\n",
       "      <th>Fylke</th>\n",
       "      <th>Område</th>\n",
       "      <th>Kommune</th>\n",
       "      <th>Holdeplass_Fra</th>\n",
       "      <th>Holdeplass_Til</th>\n",
       "      <th>Linjetype</th>\n",
       "      <th>Linjefylke</th>\n",
       "      <th>Linjenavn</th>\n",
       "      <th>Linjeretning</th>\n",
       "      <th>Tidspunkt_Faktisk_Ankomst_Holdeplass_Fra</th>\n",
       "      <th>Tidspunkt_Faktisk_Avgang_Holdeplass_Fra</th>\n",
       "      <th>Tidspunkt_Planlagt_Ankomst_Holdeplass_Fra</th>\n",
       "      <th>Tidspunkt_Planlagt_Avgang_Holdeplass_Fra</th>\n",
       "      <th>Kjøretøy_Kapasitet</th>\n",
       "      <th>Passasjerer_Ombord</th>\n",
       "    </tr>\n",
       "  </thead>\n",
       "  <tbody>\n",
       "    <tr>\n",
       "      <th>0</th>\n",
       "      <td>15006-2020-08-10T10:24:00+02:00</td>\n",
       "      <td>10/08/2020</td>\n",
       "      <td>Viken</td>\n",
       "      <td>Vest</td>\n",
       "      <td>Bærum</td>\n",
       "      <td>Nordliveien</td>\n",
       "      <td>Tjernsmyr</td>\n",
       "      <td>Lokal</td>\n",
       "      <td>Viken</td>\n",
       "      <td>150</td>\n",
       "      <td>0</td>\n",
       "      <td>10:53:53</td>\n",
       "      <td>10:53:59</td>\n",
       "      <td>10:53:00</td>\n",
       "      <td>10:53:00</td>\n",
       "      <td>112</td>\n",
       "      <td>5</td>\n",
       "    </tr>\n",
       "    <tr>\n",
       "      <th>1</th>\n",
       "      <td>15002-2020-08-15T12:54:00+02:00</td>\n",
       "      <td>15/08/2020</td>\n",
       "      <td>Viken</td>\n",
       "      <td>Vest</td>\n",
       "      <td>Bærum</td>\n",
       "      <td>Nadderud stadion</td>\n",
       "      <td>Bekkestua bussterminal (Plattform C)</td>\n",
       "      <td>Lokal</td>\n",
       "      <td>Viken</td>\n",
       "      <td>150</td>\n",
       "      <td>0</td>\n",
       "      <td>13:12:20</td>\n",
       "      <td>13:12:26</td>\n",
       "      <td>13:12:00</td>\n",
       "      <td>13:12:00</td>\n",
       "      <td>112</td>\n",
       "      <td>5</td>\n",
       "    </tr>\n",
       "    <tr>\n",
       "      <th>2</th>\n",
       "      <td>15004-2020-08-03T09:54:00+02:00</td>\n",
       "      <td>03/08/2020</td>\n",
       "      <td>Viken</td>\n",
       "      <td>Vest</td>\n",
       "      <td>Bærum</td>\n",
       "      <td>Ringstabekkveien</td>\n",
       "      <td>Skallum</td>\n",
       "      <td>Lokal</td>\n",
       "      <td>Viken</td>\n",
       "      <td>150</td>\n",
       "      <td>0</td>\n",
       "      <td>10:18:56</td>\n",
       "      <td>10:19:21</td>\n",
       "      <td>10:19:00</td>\n",
       "      <td>10:19:00</td>\n",
       "      <td>112</td>\n",
       "      <td>6</td>\n",
       "    </tr>\n",
       "    <tr>\n",
       "      <th>3</th>\n",
       "      <td>15003-2020-07-27T13:00:00+02:00</td>\n",
       "      <td>27/07/2020</td>\n",
       "      <td>Viken</td>\n",
       "      <td>Vest</td>\n",
       "      <td>Bærum</td>\n",
       "      <td>Gruvemyra</td>\n",
       "      <td>Gullhaug</td>\n",
       "      <td>Lokal</td>\n",
       "      <td>Viken</td>\n",
       "      <td>150</td>\n",
       "      <td>1</td>\n",
       "      <td>13:52:04</td>\n",
       "      <td>13:52:26</td>\n",
       "      <td>13:51:00</td>\n",
       "      <td>13:51:00</td>\n",
       "      <td>112</td>\n",
       "      <td>10</td>\n",
       "    </tr>\n",
       "    <tr>\n",
       "      <th>4</th>\n",
       "      <td>15002-2020-08-27T07:15:00+02:00</td>\n",
       "      <td>27/08/2020</td>\n",
       "      <td>Viken</td>\n",
       "      <td>Vest</td>\n",
       "      <td>Bærum</td>\n",
       "      <td>Lysaker stasjon (Plattform A)</td>\n",
       "      <td>Tjernsmyr</td>\n",
       "      <td>Lokal</td>\n",
       "      <td>Viken</td>\n",
       "      <td>150</td>\n",
       "      <td>1</td>\n",
       "      <td>07:34:13</td>\n",
       "      <td>07:34:53</td>\n",
       "      <td>07:33:00</td>\n",
       "      <td>07:33:00</td>\n",
       "      <td>112</td>\n",
       "      <td>10</td>\n",
       "    </tr>\n",
       "  </tbody>\n",
       "</table>\n",
       "</div>"
      ],
      "text/plain": [
       "                             TurId        Dato  Fylke Område Kommune  \\\n",
       "0  15006-2020-08-10T10:24:00+02:00  10/08/2020  Viken   Vest   Bærum   \n",
       "1  15002-2020-08-15T12:54:00+02:00  15/08/2020  Viken   Vest   Bærum   \n",
       "2  15004-2020-08-03T09:54:00+02:00  03/08/2020  Viken   Vest   Bærum   \n",
       "3  15003-2020-07-27T13:00:00+02:00  27/07/2020  Viken   Vest   Bærum   \n",
       "4  15002-2020-08-27T07:15:00+02:00  27/08/2020  Viken   Vest   Bærum   \n",
       "\n",
       "                  Holdeplass_Fra                        Holdeplass_Til  \\\n",
       "0                    Nordliveien                             Tjernsmyr   \n",
       "1               Nadderud stadion  Bekkestua bussterminal (Plattform C)   \n",
       "2               Ringstabekkveien                               Skallum   \n",
       "3                      Gruvemyra                              Gullhaug   \n",
       "4  Lysaker stasjon (Plattform A)                             Tjernsmyr   \n",
       "\n",
       "  Linjetype Linjefylke Linjenavn  Linjeretning  \\\n",
       "0     Lokal      Viken       150             0   \n",
       "1     Lokal      Viken       150             0   \n",
       "2     Lokal      Viken       150             0   \n",
       "3     Lokal      Viken       150             1   \n",
       "4     Lokal      Viken       150             1   \n",
       "\n",
       "  Tidspunkt_Faktisk_Ankomst_Holdeplass_Fra  \\\n",
       "0                                 10:53:53   \n",
       "1                                 13:12:20   \n",
       "2                                 10:18:56   \n",
       "3                                 13:52:04   \n",
       "4                                 07:34:13   \n",
       "\n",
       "  Tidspunkt_Faktisk_Avgang_Holdeplass_Fra  \\\n",
       "0                                10:53:59   \n",
       "1                                13:12:26   \n",
       "2                                10:19:21   \n",
       "3                                13:52:26   \n",
       "4                                07:34:53   \n",
       "\n",
       "  Tidspunkt_Planlagt_Ankomst_Holdeplass_Fra  \\\n",
       "0                                  10:53:00   \n",
       "1                                  13:12:00   \n",
       "2                                  10:19:00   \n",
       "3                                  13:51:00   \n",
       "4                                  07:33:00   \n",
       "\n",
       "  Tidspunkt_Planlagt_Avgang_Holdeplass_Fra  Kjøretøy_Kapasitet  \\\n",
       "0                                 10:53:00                 112   \n",
       "1                                 13:12:00                 112   \n",
       "2                                 10:19:00                 112   \n",
       "3                                 13:51:00                 112   \n",
       "4                                 07:33:00                 112   \n",
       "\n",
       "   Passasjerer_Ombord  \n",
       "0                   5  \n",
       "1                   5  \n",
       "2                   6  \n",
       "3                  10  \n",
       "4                  10  "
      ]
     },
     "execution_count": 3,
     "metadata": {},
     "output_type": "execute_result"
    }
   ],
   "source": [
    "Ruter_df.head()"
   ]
  },
  {
   "cell_type": "code",
   "execution_count": 15,
   "metadata": {},
   "outputs": [
    {
     "data": {
      "text/plain": [
       "array(['Viken', 'Oslo'], dtype=object)"
      ]
     },
     "execution_count": 15,
     "metadata": {},
     "output_type": "execute_result"
    }
   ],
   "source": [
    "pd.unique(Ruter_df['Fylke'])"
   ]
  },
  {
   "cell_type": "code",
   "execution_count": 16,
   "metadata": {},
   "outputs": [
    {
     "data": {
      "text/plain": [
       "106    1805\n",
       "112     791\n",
       "151     690\n",
       "115     492\n",
       "105     475\n",
       "80      452\n",
       "72      398\n",
       "130     205\n",
       "71      193\n",
       "69      174\n",
       "75       89\n",
       "33       68\n",
       "77       45\n",
       "76       45\n",
       "47       39\n",
       "70       34\n",
       "103       4\n",
       "102       1\n",
       "Name: Kjøretøy_Kapasitet, dtype: int64"
      ]
     },
     "execution_count": 16,
     "metadata": {},
     "output_type": "execute_result"
    }
   ],
   "source": [
    "Ruter_df['Kjøretøy_Kapasitet'].value_counts()"
   ]
  },
  {
   "cell_type": "code",
   "execution_count": 5,
   "metadata": {},
   "outputs": [
    {
     "data": {
      "text/plain": [
       "array([112, 151, 106,  71, 115,  72, 105,  33,  77,  80,  75,  70,  76,\n",
       "        69, 130,  47, 103, 102])"
      ]
     },
     "execution_count": 5,
     "metadata": {},
     "output_type": "execute_result"
    }
   ],
   "source": [
    "pd.unique(Ruter_df['Kjøretøy_Kapasitet'])"
   ]
  },
  {
   "cell_type": "code",
   "execution_count": 6,
   "metadata": {},
   "outputs": [
    {
     "data": {
      "text/plain": [
       "18"
      ]
     },
     "execution_count": 6,
     "metadata": {},
     "output_type": "execute_result"
    }
   ],
   "source": [
    "len(pd.unique(Ruter_df['Kjøretøy_Kapasitet']))"
   ]
  },
  {
   "cell_type": "code",
   "execution_count": 19,
   "metadata": {},
   "outputs": [
    {
     "data": {
      "text/plain": [
       "<AxesSubplot:ylabel='Frequency'>"
      ]
     },
     "execution_count": 19,
     "metadata": {},
     "output_type": "execute_result"
    },
    {
     "data": {
      "image/png": "[encoded data removed]",
      "text/plain": [
       "<Figure size 432x288 with 1 Axes>"
      ]
     },
     "metadata": {
      "needs_background": "light"
     },
     "output_type": "display_data"
    }
   ],
   "source": [
    "Ruter_df['Kjøretøy_Kapasitet'].plot.hist(bins = 18*2)"
   ]
  },
  {
   "cell_type": "code",
   "execution_count": 28,
   "metadata": {},
   "outputs": [
    {
     "data": {
      "text/plain": [
       "(array([  68.,    0.,   39.,    0.,    0.,  799.,  179.,  452.,    0.,\n",
       "           0.,  480., 1805., 1283.,    0.,  205.,    0.,    0.,  690.]),\n",
       " array([ 33.        ,  39.55555556,  46.11111111,  52.66666667,\n",
       "         59.22222222,  65.77777778,  72.33333333,  78.88888889,\n",
       "         85.44444444,  92.        ,  98.55555556, 105.11111111,\n",
       "        111.66666667, 118.22222222, 124.77777778, 131.33333333,\n",
       "        137.88888889, 144.44444444, 151.        ]),\n",
       " <BarContainer object of 18 artists>)"
      ]
     },
     "execution_count": 28,
     "metadata": {},
     "output_type": "execute_result"
    },
    {
     "data": {
      "image/png": "[encoded data removed]",
      "text/plain": [
       "<Figure size 432x288 with 1 Axes>"
      ]
     },
     "metadata": {
      "needs_background": "light"
     },
     "output_type": "display_data"
    }
   ],
   "source": [
    "fig_kap = plt.figure() #fig_kap = figure for kapasitet\n",
    "ax_kap = fig_kap.add_subplot(1,1,1) #ax_kap = axis for kapasitet\n",
    "ax_kap.set_xlabel('Kapasitet')\n",
    "ax_kap.set_ylabel('Antall busser med denne kapasiteten')\n",
    "ax_kap.hist(Ruter_df.Kjøretøy_Kapasitet, bins=18)"
   ]
  },
  {
   "cell_type": "code",
   "execution_count": 22,
   "metadata": {},
   "outputs": [
    {
     "data": {
      "text/plain": [
       "<AxesSubplot:xlabel='Kjøretøy_Kapasitet'>"
      ]
     },
     "execution_count": 22,
     "metadata": {},
     "output_type": "execute_result"
    },
    {
     "data": {
      "image/png": "[encoded data removed]",
      "text/plain": [
       "<Figure size 432x288 with 1 Axes>"
      ]
     },
     "metadata": {
      "needs_background": "light"
     },
     "output_type": "display_data"
    }
   ],
   "source": [
    "sns.distplot(Ruter_df['Kjøretøy_Kapasitet'], bins=18*2, kde=True)"
   ]
  },
  {
   "cell_type": "code",
   "execution_count": 13,
   "metadata": {},
   "outputs": [
    {
     "data": {
      "text/plain": [
       "[<matplotlib.lines.Line2D at 0x7fdf81a307f0>]"
      ]
     },
     "execution_count": 13,
     "metadata": {},
     "output_type": "execute_result"
    },
    {
     "data": {
      "image/png": "[encoded data removed]",
      "text/plain": [
       "<Figure size 432x288 with 1 Axes>"
      ]
     },
     "metadata": {
      "needs_background": "light"
     },
     "output_type": "display_data"
    }
   ],
   "source": [
    "fig_Lname = plt.figure() #fig_Lname = figure for linjenavn\n",
    "data = Ruter_df.Linjenavn.value_counts()\n",
    "ax_Lname = fig_Lname.add_subplot(1,1,1) #ax_Lname = axis for linjenavn\n",
    "ax_Lname.set_xlabel('Linjenavn')\n",
    "ax_Lname.set_ylabel('Frekvens')\n",
    "ax_Lname.plot(Ruter_df.Linjenavn.value_counts())"
   ]
  },
  {
   "cell_type": "code",
   "execution_count": 10,
   "metadata": {},
   "outputs": [
    {
     "data": {
      "text/plain": [
       "array(['Bærum', 'Bjerke', 'St.Hanshaugen', 'Indre Østfold', 'Sentrum',\n",
       "       'Ullensaker', 'Eidsvoll', 'Lørenskog', 'Asker', 'Lillestrøm',\n",
       "       'Rælingen', 'Alna', 'Aurskog-Høland', 'Gamle Oslo', 'Nannestad',\n",
       "       'Hurdal', 'Gjerdrum', 'Enebakk', 'Stovner', 'Nes', 'Grünerløkka',\n",
       "       'Nordmarka', 'Grorud', 'Ullern', 'Vestre Aker', 'Nittedal',\n",
       "       'Nordstrand', 'Nordre Follo', 'Sagene', 'Søndre Nordstrand',\n",
       "       'Nordre Aker', 'Frogner', 'Lier', 'Drammen'], dtype=object)"
      ]
     },
     "execution_count": 10,
     "metadata": {},
     "output_type": "execute_result"
    }
   ],
   "source": [
    "pd.unique(Ruter_df.Kommune)"
   ]
  },
  {
   "cell_type": "code",
   "execution_count": 14,
   "metadata": {},
   "outputs": [
    {
     "data": {
      "text/plain": [
       "(array([4.000e+00, 8.000e+00, 6.100e+01, 2.670e+03, 2.619e+03, 5.260e+02,\n",
       "        9.000e+01, 1.600e+01, 4.000e+00, 2.000e+00]),\n",
       " array([-39. , -28.7, -18.4,  -8.1,   2.2,  12.5,  22.8,  33.1,  43.4,\n",
       "         53.7,  64. ]),\n",
       " <BarContainer object of 10 artists>)"
      ]
     },
     "execution_count": 14,
     "metadata": {},
     "output_type": "execute_result"
    },
    {
     "data": {
      "image/png": "[encoded data removed]",
      "text/plain": [
       "<Figure size 432x288 with 1 Axes>"
      ]
     },
     "metadata": {
      "needs_background": "light"
     },
     "output_type": "display_data"
    }
   ],
   "source": [
    "fig_passanger = plt.figure() \n",
    "ax_passanger = fig_passanger.add_subplot(1,1,1) \n",
    "ax_passanger.set_xlabel('Passasjer')\n",
    "ax_passanger.set_ylabel('Frekvens')\n",
    "ax_passanger.hist(Ruter_df.Passasjerer_Ombord)"
   ]
  },
  {
   "cell_type": "code",
   "execution_count": 12,
   "metadata": {},
   "outputs": [
    {
     "data": {
      "text/plain": [
       "array([  5,   6,  10,   8,   1,  -1,   2,   4,  -2,   0,   9,  -5,  -7,\n",
       "         3,  11,  -3,  36,  -8,  -6,   7,  13,  30,  -4, -10,  17,  15,\n",
       "        19,  14,  16,  24,  12,  25,  28,  18,  34,  20, -17,  22,  31,\n",
       "       -13, -12, -11, -39,  21, -19,  23, -18,  33,  26,  -9,  38,  29,\n",
       "        39, -22,  45,  35, -16, -14,  37,  52,  27,  42,  64, -15,  40,\n",
       "       -24, -29,  32, -20, -34])"
      ]
     },
     "execution_count": 12,
     "metadata": {},
     "output_type": "execute_result"
    }
   ],
   "source": [
    "pd.unique(Ruter_df.Passasjerer_Ombord)"
   ]
  },
  {
   "cell_type": "code",
   "execution_count": 31,
   "metadata": {},
   "outputs": [
    {
     "data": {
      "text/plain": [
       "<AxesSubplot:xlabel='Passasjerer_Ombord'>"
      ]
     },
     "execution_count": 31,
     "metadata": {},
     "output_type": "execute_result"
    },
    {
     "data": {
      "image/png": "[encoded data removed]",
      "text/plain": [
       "<Figure size 432x288 with 1 Axes>"
      ]
     },
     "metadata": {
      "needs_background": "light"
     },
     "output_type": "display_data"
    }
   ],
   "source": [
    "sns.distplot(Ruter_df['Passasjerer_Ombord'], kde=True)"
   ]
  },
  {
   "cell_type": "markdown",
   "metadata": {},
   "source": [
    "# Data vizualisation of Linjetyper"
   ]
  },
  {
   "cell_type": "code",
   "execution_count": 32,
   "metadata": {},
   "outputs": [
    {
     "data": {
      "text/plain": [
       "Lokal       5741\n",
       "Ekspress     193\n",
       "Skole         63\n",
       "Natt           3\n",
       "Name: Linjetype, dtype: int64"
      ]
     },
     "execution_count": 32,
     "metadata": {},
     "output_type": "execute_result"
    },
    {
     "data": {
      "image/png": "[encoded data removed]",
      "text/plain": [
       "<Figure size 432x288 with 1 Axes>"
      ]
     },
     "metadata": {
      "needs_background": "light"
     },
     "output_type": "display_data"
    }
   ],
   "source": [
    "fig = plt.figure()\n",
    "ax = fig.add_subplot(1,1,1)\n",
    "ax.bar(pd.unique(Ruter_df.Linjetype),Ruter_df.Linjetype.value_counts())\n",
    "Ruter_df.Linjetype.value_counts()"
   ]
  },
  {
   "cell_type": "code",
   "execution_count": null,
   "metadata": {},
   "outputs": [],
   "source": []
  }
 ],
 "metadata": {
  "kernelspec": {
   "display_name": "Python 3",
   "language": "python",
   "name": "python3"
  },
  "language_info": {
   "codemirror_mode": {
    "name": "ipython",
    "version": 3
   },
   "file_extension": ".py",
   "mimetype": "text/x-python",
   "name": "python",
   "nbconvert_exporter": "python",
   "pygments_lexer": "ipython3",
   "version": "3.8.5"
  }
 },
 "nbformat": 4,
 "nbformat_minor": 4
}
