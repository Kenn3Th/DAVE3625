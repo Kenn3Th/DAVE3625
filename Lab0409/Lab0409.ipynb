{
 "cells": [
  {
   "cell_type": "code",
   "execution_count": 1,
   "metadata": {},
   "outputs": [],
   "source": [
    "import numpy as np\n",
    "import matplotlib.pyplot as plt"
   ]
  },
  {
   "cell_type": "code",
   "execution_count": 2,
   "metadata": {},
   "outputs": [],
   "source": [
    "from faker import Faker\n",
    "fake = Faker('no_NO')"
   ]
  },
  {
   "cell_type": "code",
   "execution_count": 3,
   "metadata": {},
   "outputs": [
    {
     "data": {
      "text/plain": [
       "'Sofie Næss-Bakke'"
      ]
     },
     "execution_count": 3,
     "metadata": {},
     "output_type": "execute_result"
    }
   ],
   "source": [
    "fake.name()"
   ]
  },
  {
   "cell_type": "code",
   "execution_count": 4,
   "metadata": {},
   "outputs": [
    {
     "data": {
      "text/plain": [
       "'Hanssengrenda 7, 4020 Royhamn'"
      ]
     },
     "execution_count": 4,
     "metadata": {},
     "output_type": "execute_result"
    }
   ],
   "source": [
    "fake.address()"
   ]
  },
  {
   "cell_type": "code",
   "execution_count": 5,
   "metadata": {},
   "outputs": [
    {
     "name": "stdout",
     "output_type": "stream",
     "text": [
      "Julie Hauge-Mikkelsen\n",
      "Egil-Arne Hagen\n",
      "Martine-Tonje Andresen\n",
      "Johannes Moen\n",
      "Line Svendsen\n",
      "Britt-Marie Strøm\n",
      "Nora Moe\n",
      "Magne Myhre\n",
      "Geir Sandvik\n",
      "Martin Bakke\n"
     ]
    }
   ],
   "source": [
    "for _ in range(10):\n",
    "    print(fake.name())"
   ]
  },
  {
   "cell_type": "code",
   "execution_count": 6,
   "metadata": {},
   "outputs": [
    {
     "name": "stdout",
     "output_type": "stream",
     "text": [
      "Ellingsenlia 26, 2799 Larsen\n",
      "Johansenfaret 9, 1724 Berge\n",
      "Tangenengen 3, 5929 Magnehavn\n",
      "Brekkestranda 9, 6628 Hegesund\n",
      "Andreassenkroken 7, 8801 Hanssen\n",
      "Isaksenbakken 3C, 1432 Jensøy\n",
      "Rønningroa 80, 3610 Hagen\n",
      "Rasmussengjerdet 92A, 0656 Rønning\n",
      "Kristiansenskrenten 1H, 4418 Edvardsen\n",
      "Isaksenvika 5, 3567 Isaksen\n"
     ]
    }
   ],
   "source": [
    "for _ in range(10):\n",
    "    print(fake.address())"
   ]
  },
  {
   "cell_type": "code",
   "execution_count": 7,
   "metadata": {},
   "outputs": [],
   "source": [
    "adr = []\n",
    "for _ in range(10):\n",
    "    adr.append(fake.address())"
   ]
  },
  {
   "cell_type": "code",
   "execution_count": 8,
   "metadata": {},
   "outputs": [
    {
     "data": {
      "text/plain": [
       "['Birkelandfaret 9, 4222 Vidarhavn',\n",
       " 'Lundehøgda 5, 6722 Lunde',\n",
       " 'Simonsengrenda 28, 1999 Eliassen',\n",
       " 'Myklebustskrenten 776, 9399 Elsesand',\n",
       " 'Birkelandbakken 4, 0656 Andershamn',\n",
       " 'Henriksenhagen 6, 5516 Hauge',\n",
       " 'Halvorsenjordet 2H, 8301 Tveit',\n",
       " 'Knutsenstubben 066, 8899 Ødegård',\n",
       " 'Jenssenbråten 3, 4122 Wenchefoss',\n",
       " 'Haugesvingen 4, 6008 Christensen']"
      ]
     },
     "execution_count": 8,
     "metadata": {},
     "output_type": "execute_result"
    }
   ],
   "source": [
    "adr"
   ]
  },
  {
   "cell_type": "code",
   "execution_count": 1,
   "metadata": {},
   "outputs": [],
   "source": [
    "from laundromat.spacy.spacy_model import SpacyModel"
   ]
  },
  {
   "cell_type": "code",
   "execution_count": 2,
   "metadata": {},
   "outputs": [],
   "source": [
    "tekst = (\"Hei, mitt navn er Ola Nordmann. Jeg er 20 år og jobber 50 prosent\"\n",
    "\"stilling i Arbeidsgiver AS i Norge. Du kan nå meg på 99999999.\")"
   ]
  },
  {
   "cell_type": "code",
   "execution_count": 3,
   "metadata": {},
   "outputs": [],
   "source": [
    "nlp = SpacyModel()"
   ]
  },
  {
   "cell_type": "code",
   "execution_count": 4,
   "metadata": {},
   "outputs": [
    {
     "data": {
      "text/plain": [
       "[['Ola Nordmann', 'PER', 5, 7],\n",
       " ['Arbeidsgiver AS', 'ORG', 17, 19],\n",
       " ['Norge', 'LOC', 20, 21]]"
      ]
     },
     "execution_count": 4,
     "metadata": {},
     "output_type": "execute_result"
    }
   ],
   "source": [
    "nlp.predict(tekst)"
   ]
  },
  {
   "cell_type": "code",
   "execution_count": 5,
   "metadata": {},
   "outputs": [
    {
     "data": {
      "text/plain": [
       "{'PER': 1, 'ORG': 1, 'LOC': 1}"
      ]
     },
     "execution_count": 5,
     "metadata": {},
     "output_type": "execute_result"
    }
   ],
   "source": [
    "nlp.count(tekst)"
   ]
  },
  {
   "cell_type": "code",
   "execution_count": 6,
   "metadata": {},
   "outputs": [
    {
     "data": {
      "text/plain": [
       "'Hei, mitt navn er *-*-*-*-*-*-*-*-*-*-*-*-. Jeg er 20 år og jobber 50 prosentstilling i *-*-*-*-*-*-*-*-*-*-*-*-*-*-*- i *-*-*-*-*-. Du kan nå meg på 99999999.'"
      ]
     },
     "execution_count": 6,
     "metadata": {},
     "output_type": "execute_result"
    }
   ],
   "source": [
    "sladdet = nlp.replace(tekst, replacement=\"pad\", replacement_char=\"*-\")\n",
    "sladdet"
   ]
  },
  {
   "cell_type": "code",
   "execution_count": 11,
   "metadata": {},
   "outputs": [],
   "source": [
    "import spacy"
   ]
  },
  {
   "cell_type": "code",
   "execution_count": 12,
   "metadata": {},
   "outputs": [
    {
     "data": {
      "text/plain": [
       "'2.3.1'"
      ]
     },
     "execution_count": 12,
     "metadata": {},
     "output_type": "execute_result"
    }
   ],
   "source": [
    "spacy.__version__"
   ]
  },
  {
   "cell_type": "code",
   "execution_count": null,
   "metadata": {},
   "outputs": [],
   "source": []
  }
 ],
 "metadata": {
  "kernelspec": {
   "display_name": "Python 3",
   "language": "python",
   "name": "python3"
  },
  "language_info": {
   "codemirror_mode": {
    "name": "ipython",
    "version": 3
   },
   "file_extension": ".py",
   "mimetype": "text/x-python",
   "name": "python",
   "nbconvert_exporter": "python",
   "pygments_lexer": "ipython3",
   "version": "3.8.5"
  }
 },
 "nbformat": 4,
 "nbformat_minor": 4
}
