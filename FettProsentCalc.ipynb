{
 "cells": [
  {
   "cell_type": "code",
   "execution_count": 1,
   "metadata": {},
   "outputs": [],
   "source": [
    "def fettprosent(kroppstetthet):\n",
    "    fettprosent = ((4.95/kroppstetthet)-4.5)*100\n",
    "    return fettprosent\n",
    "\n",
    "def fettprosentMenn(mann,navn):\n",
    "    var = sum(mann)\n",
    "    kroppstetthet = 1.10938-(8.267*10**(-4)*var)+(1.6*10**(-6)*var**2)-2.574*10**(-4)*30\n",
    "    fprosent = fettprosent(kroppstetthet)\n",
    "    print(f\"Din fettprosent er: {fprosent:.2f} {navn}\")\n",
    "\n",
    "def fettprosentDame(dame,navn):\n",
    "    var = sum(dame)\n",
    "    kroppstetthet = 1.0994921 - (9.929*10**(-4)*var) + (2.3*10**(-6)*var**2)-(1.392*10**(-4)*27)\n",
    "    fprosent = fettprosent(kroppstetthet)\n",
    "    print(f\"Din fettprosent er: {fprosent:.2f} {navn}\")"
   ]
  },
  {
   "cell_type": "code",
   "execution_count": 2,
   "metadata": {},
   "outputs": [
    {
     "name": "stdout",
     "output_type": "stream",
     "text": [
      "Din fettprosent er: 23.34 Kenneth\n"
     ]
    }
   ],
   "source": [
    "kenneth = [41,19,20]\n",
    "fettprosentMenn(kenneth,\"Kenneth\")"
   ]
  },
  {
   "cell_type": "code",
   "execution_count": 3,
   "metadata": {},
   "outputs": [
    {
     "name": "stdout",
     "output_type": "stream",
     "text": [
      "Din fettprosent er: 24.59 Caroline\n"
     ]
    }
   ],
   "source": [
    "caroline = [23, 19, 20]\n",
    "fettprosentDame(caroline,\"Caroline\")"
   ]
  },
  {
   "cell_type": "code",
   "execution_count": null,
   "metadata": {},
   "outputs": [],
   "source": []
  }
 ],
 "metadata": {
  "kernelspec": {
   "display_name": "Python 3",
   "language": "python",
   "name": "python3"
  },
  "language_info": {
   "codemirror_mode": {
    "name": "ipython",
    "version": 3
   },
   "file_extension": ".py",
   "mimetype": "text/x-python",
   "name": "python",
   "nbconvert_exporter": "python",
   "pygments_lexer": "ipython3",
   "version": "3.8.5"
  }
 },
 "nbformat": 4,
 "nbformat_minor": 4
}
